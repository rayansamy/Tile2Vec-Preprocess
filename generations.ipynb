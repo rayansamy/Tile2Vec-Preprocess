{
 "cells": [
  {
   "cell_type": "code",
   "execution_count": null,
   "source": [
    "from utils.tools import *"
   ],
   "outputs": [],
   "metadata": {}
  },
  {
   "cell_type": "markdown",
   "source": [
    "# Train data set (divide domains on tiles)"
   ],
   "metadata": {}
  },
  {
   "cell_type": "code",
   "execution_count": null,
   "source": [
    "\r\n",
    "input_folder = \"../DATASETS/zooniverse_kaggle/train_images/\"\r\n",
    "output_folder = \"tmp/\"\r\n",
    "size = 256\r\n",
    "\r\n",
    "transform(input_folder, output_folder, size, plot=False)"
   ],
   "outputs": [],
   "metadata": {}
  },
  {
   "cell_type": "markdown",
   "source": [
    "# Multi-scale data sets"
   ],
   "metadata": {}
  },
  {
   "cell_type": "code",
   "execution_count": null,
   "source": [
    "input_folder = \"../DATASETS/zooniverse_kaggle/\"\r\n",
    "output_folder = \"tmp/\"\r\n",
    "pd_file = \"../DATASETS/zooniverse_kaggle/train.csv\"\r\n",
    "scales = range(800, 805, 2)\r\n",
    "\r\n",
    "transform_multi_scale(input_folder, output_folder, pd_file, scales)"
   ],
   "outputs": [],
   "metadata": {}
  },
  {
   "cell_type": "markdown",
   "source": [
    "# Creating Biggest Square data set"
   ],
   "metadata": {}
  },
  {
   "cell_type": "code",
   "execution_count": null,
   "source": [
    "input_folder = \"../DATASETS/zooniverse_kaggle/\"\r\n",
    "output_folder = \"tmp/\"\r\n",
    "pd_file = \"../DATASETS/zooniverse_kaggle/train.csv\"\r\n",
    "\r\n",
    "\r\n",
    "transform_biggest_square(input_folder, output_folder, pd_file)"
   ],
   "outputs": [],
   "metadata": {}
  },
  {
   "cell_type": "markdown",
   "source": [
    "# Creating biggest square classification training data set"
   ],
   "metadata": {}
  },
  {
   "cell_type": "code",
   "execution_count": null,
   "source": [
    "input_folder = \"../DATASETS/zooniverse_kaggle/\"\r\n",
    "output_folder = \"tmp/\"\r\n",
    "pd_file = \"../DATASETS/zooniverse_kaggle/train.csv\"\r\n",
    "\r\n",
    "\r\n",
    "transform_biggest_square_classification(input_folder, output_folder, pd_file)"
   ],
   "outputs": [],
   "metadata": {}
  },
  {
   "cell_type": "markdown",
   "source": [],
   "metadata": {}
  }
 ],
 "metadata": {
  "interpreter": {
   "hash": "eb5eee0258d11464c1b50faa516cf2f7de9a8eeed28280aad95631800dffa993"
  },
  "kernelspec": {
   "name": "python3",
   "display_name": "Python 3.7.10 64-bit ('convml_tt': conda)"
  },
  "language_info": {
   "codemirror_mode": {
    "name": "ipython",
    "version": 3
   },
   "file_extension": ".py",
   "mimetype": "text/x-python",
   "name": "python",
   "nbconvert_exporter": "python",
   "pygments_lexer": "ipython3",
   "version": "3.7.10"
  }
 },
 "nbformat": 4,
 "nbformat_minor": 4
}